{
 "cells": [
  {
   "cell_type": "code",
   "execution_count": 37,
   "id": "ec4e291a",
   "metadata": {},
   "outputs": [
    {
     "ename": "FileNotFoundError",
     "evalue": "[WinError 3] The system cannot find the path specified: 'train_images_labels_targets/train/labels'",
     "output_type": "error",
     "traceback": [
      "\u001b[1;31m---------------------------------------------------------------------------\u001b[0m",
      "\u001b[1;31mFileNotFoundError\u001b[0m                         Traceback (most recent call last)",
      "Input \u001b[1;32mIn [37]\u001b[0m, in \u001b[0;36m<cell line: 72>\u001b[1;34m()\u001b[0m\n\u001b[0;32m     70\u001b[0m final_shelterArea \u001b[38;5;241m=\u001b[39m []\n\u001b[0;32m     71\u001b[0m final_pathList \u001b[38;5;241m=\u001b[39m []\n\u001b[1;32m---> 72\u001b[0m files \u001b[38;5;241m=\u001b[39m \u001b[43mos\u001b[49m\u001b[38;5;241;43m.\u001b[39;49m\u001b[43mlistdir\u001b[49m\u001b[43m(\u001b[49m\u001b[38;5;124;43m'\u001b[39;49m\u001b[38;5;124;43mtrain_images_labels_targets/train/labels\u001b[39;49m\u001b[38;5;124;43m'\u001b[39;49m\u001b[43m)\u001b[49m\n\u001b[0;32m     73\u001b[0m \u001b[38;5;28;01mfor\u001b[39;00m i \u001b[38;5;129;01min\u001b[39;00m \u001b[38;5;28mrange\u001b[39m(\u001b[38;5;28mlen\u001b[39m(files)):\n\u001b[0;32m     74\u001b[0m     path \u001b[38;5;241m=\u001b[39m \u001b[38;5;124m'\u001b[39m\u001b[38;5;124mtrain_images_labels_targets/train/labels/\u001b[39m\u001b[38;5;124m'\u001b[39m \u001b[38;5;241m+\u001b[39m \u001b[38;5;28mstr\u001b[39m(files[i])\n",
      "\u001b[1;31mFileNotFoundError\u001b[0m: [WinError 3] The system cannot find the path specified: 'train_images_labels_targets/train/labels'"
     ]
    }
   ],
   "source": [
    "import numpy as np\n",
    "import pandas as pd\n",
    "import os\n",
    "import json\n",
    "from pathlib import Path\n",
    "import plotly.express as px\n",
    "import matplotlib.pyplot as plt\n",
    "from sklearn.cluster import KMeans\n",
    "from scipy.spatial import ConvexHull\n",
    "from scipy import interpolate\n",
    "from sklearn.cluster import DBSCAN\n",
    "from sklearn import metrics\n",
    "import math\n",
    "\n",
    "def getCentroid(xcoor, ycoor):\n",
    "    return float(sum(xcoor)/len(xcoor)), float(sum(ycoor)/len(ycoor))\n",
    "\n",
    "def reproject(latitude, longitude):\n",
    "    \"\"\"Returns the x & y coordinates in meters using a sinusoidal projection\"\"\"\n",
    "    from math import pi, cos, radians\n",
    "    earth_radius = 6371009 # in meters\n",
    "    lat_dist = pi * earth_radius / 180.0\n",
    "\n",
    "    y = [lat * lat_dist for lat in latitude]\n",
    "    x = [long * lat_dist * cos(radians(lat)) \n",
    "                for lat, long in zip(latitude, longitude)]\n",
    "    return x, y\n",
    "\n",
    "def area_of_polygon(x, y):\n",
    "    \"\"\"Calculates the area of an arbitrary polygon given its verticies\"\"\"\n",
    "    area = 0.0\n",
    "    for i in range(-1, len(x)-1):\n",
    "        area += x[i] * (y[i+1] - y[i-1])\n",
    "    return abs(area) / 2.0\n",
    "\n",
    "def getData(path):\n",
    "    f = open(path)\n",
    "    data = json.load(f)\n",
    "    shelterCount = len(data['features']['lng_lat'])\n",
    "    xcentroids = []\n",
    "    ycentroids = []\n",
    "    damageStatus = []\n",
    "    featureTypes = []\n",
    "    shelterArea = []\n",
    "    for i in range(shelterCount):\n",
    "        # Code for every shelter\n",
    "        coordinates = data['features']['lng_lat'][i]['wkt'][10:-2]\n",
    "        coordinates = coordinates.split(sep = ',')\n",
    "        coordinates = coordinates[:-1]\n",
    "        xcoor = []\n",
    "        ycoor = []\n",
    "        for points in coordinates:\n",
    "            x, y = points.split()\n",
    "            xcoor.append(float(x))\n",
    "            ycoor.append(float(y))\n",
    "        x, y = getCentroid(xcoor, ycoor)\n",
    "        x1, y1 = reproject(xcoor, ycoor)\n",
    "        shelterArea.append(area_of_polygon(x1, y1))\n",
    "        xcentroids.append(x)\n",
    "        ycentroids.append(y)\n",
    "        damageStatus.append(data['features']['lng_lat'][i]['properties']['subtype'])\n",
    "        featureTypes.append(data['features']['lng_lat'][i]['properties']['feature_type'])\n",
    "    return xcentroids, ycentroids, damageStatus, featureTypes, [path[41:]]*shelterCount, shelterArea\n",
    "\n",
    "dictX = {}\n",
    "final_xcentroids = []\n",
    "final_ycentroids = []\n",
    "final_damageStatus = []\n",
    "final_featureTypes = []\n",
    "final_shelterArea = []\n",
    "final_pathList = []\n",
    "files = os.listdir('train_images_labels_targets/train/labels')\n",
    "for i in range(len(files)):\n",
    "    path = 'train_images_labels_targets/train/labels/' + str(files[i])\n",
    "    if files[i].endswith(\"post_disaster.json\"):\n",
    "        xcentroids, ycentroids, damageStatus, featureTypes, pathList, shelterArea = getData(path)\n",
    "        final_xcentroids.extend(xcentroids)\n",
    "        final_ycentroids.extend(ycentroids)\n",
    "        final_damageStatus.extend(damageStatus)\n",
    "        final_featureTypes.extend(featureTypes)\n",
    "        final_pathList.extend(pathList)\n",
    "        final_shelterArea.extend(shelterArea)\n",
    "dictX['xCentroid'] = final_xcentroids\n",
    "dictX['yCentroid'] = final_ycentroids\n",
    "dictX['damageStatus'] = final_damageStatus\n",
    "dictX['featureTypes'] = final_featureTypes\n",
    "dictX['File Name'] = final_pathList\n",
    "dictX['Shelter Area'] = final_shelterArea\n",
    "disasterName = []\n",
    "for path in final_pathList:\n",
    "    disasterName.append(path[:-28])\n",
    "dictX['Disaster Name'] = disasterName\n",
    "df = pd.DataFrame(dictX)\n",
    "df"
   ]
  },
  {
   "cell_type": "code",
   "execution_count": 18,
   "id": "19b41c04",
   "metadata": {},
   "outputs": [
    {
     "ename": "NameError",
     "evalue": "name 'df' is not defined",
     "output_type": "error",
     "traceback": [
      "\u001b[1;31m---------------------------------------------------------------------------\u001b[0m",
      "\u001b[1;31mNameError\u001b[0m                                 Traceback (most recent call last)",
      "Input \u001b[1;32mIn [18]\u001b[0m, in \u001b[0;36m<cell line: 1>\u001b[1;34m()\u001b[0m\n\u001b[1;32m----> 1\u001b[0m \u001b[43mdf\u001b[49m[\u001b[38;5;124m'\u001b[39m\u001b[38;5;124mDisaster Name\u001b[39m\u001b[38;5;124m'\u001b[39m]\u001b[38;5;241m.\u001b[39munique()\n",
      "\u001b[1;31mNameError\u001b[0m: name 'df' is not defined"
     ]
    }
   ],
   "source": [
    "df['Disaster Name'].unique()"
   ]
  },
  {
   "cell_type": "code",
   "execution_count": 19,
   "id": "56b97789",
   "metadata": {},
   "outputs": [],
   "source": [
    "def getPlots(disaster_name):\n",
    "   df[df['Disaster Name'] == disaster_name]\n",
    "   df1 = df[df['Disaster Name'] == disaster_name]\n",
    "   df_no_damage = df1[df1['damageStatus'] == 'no-damage']\n",
    "   df_minor_damage = df1[df1['damageStatus'] == 'minor-damage']\n",
    "   df_major_damage = df1[df1['damageStatus'] == 'major-damage']\n",
    "   df_destroyed = df1[df1['damageStatus'] == 'destroyed']\n",
    "   df_un_classified = df1[df1['damageStatus'] == 'un-classified']\n",
    "   \n",
    "   plt.figure(figsize=(15,15))\n",
    "   plt.plot(df_no_damage['xCentroid'], df_no_damage['yCentroid'], color = 'gray', ls = '', marker = '.', markersize = 2, label = 'no-damage')\n",
    "   plt.plot(df_minor_damage['xCentroid'], df_minor_damage['yCentroid'], color = 'blue', ls = '', marker = '^', markersize = 3,label = 'minor-damage')\n",
    "   plt.plot(df_major_damage['xCentroid'], df_major_damage['yCentroid'], color = 'orange', ls = '', marker = 'd', markersize = 4,label = 'major-damage')\n",
    "   plt.plot(df_destroyed['xCentroid'], df_destroyed['yCentroid'], color = 'red', ls = '', marker = 'o', markersize = 5, label = 'destroyed')\n",
    "   # plt.plot(df_un_classified['xCentroid'], df_un_classified['yCentroid'], color = 'black', label = 'un-classified')\n",
    "   plt.title(disaster_name, fontsize = 25)\n",
    "   plt.xlabel('Longitude', fontsize = 15)\n",
    "   plt.ylabel('Latitude',fontsize = 15)\n",
    "   plt.xticks(fontsize = 15, rotation = 30)\n",
    "   plt.yticks(fontsize = 15, rotation = 30)\n",
    "   plt.legend()\n",
    "   # plt.plot()\n",
    "   # color = 'blue', lw = 2, ls = '-', marker = 'o', markersize = 10, markerfacecolor = 'yellow', markeredgewidth = 3\n",
    "   plt.savefig(disaster_name)"
   ]
  },
  {
   "cell_type": "code",
   "execution_count": 20,
   "id": "e0390a1c",
   "metadata": {
    "scrolled": false
   },
   "outputs": [
    {
     "ename": "NameError",
     "evalue": "name 'df' is not defined",
     "output_type": "error",
     "traceback": [
      "\u001b[1;31m---------------------------------------------------------------------------\u001b[0m",
      "\u001b[1;31mNameError\u001b[0m                                 Traceback (most recent call last)",
      "Input \u001b[1;32mIn [20]\u001b[0m, in \u001b[0;36m<cell line: 1>\u001b[1;34m()\u001b[0m\n\u001b[1;32m----> 1\u001b[0m \u001b[38;5;28;01mfor\u001b[39;00m disaster \u001b[38;5;129;01min\u001b[39;00m \u001b[38;5;28mlist\u001b[39m(\u001b[43mdf\u001b[49m[\u001b[38;5;124m'\u001b[39m\u001b[38;5;124mDisaster Name\u001b[39m\u001b[38;5;124m'\u001b[39m]\u001b[38;5;241m.\u001b[39munique()):\n\u001b[0;32m      2\u001b[0m     getPlots(disaster)\n",
      "\u001b[1;31mNameError\u001b[0m: name 'df' is not defined"
     ]
    }
   ],
   "source": [
    "for disaster in list(df['Disaster Name'].unique()):\n",
    "    getPlots(disaster)"
   ]
  },
  {
   "cell_type": "markdown",
   "id": "e0ff5a06",
   "metadata": {},
   "source": [
    "# KMeans Clustering"
   ]
  },
  {
   "cell_type": "code",
   "execution_count": 21,
   "id": "610c86ea",
   "metadata": {},
   "outputs": [
    {
     "ename": "NameError",
     "evalue": "name 'df' is not defined",
     "output_type": "error",
     "traceback": [
      "\u001b[1;31m---------------------------------------------------------------------------\u001b[0m",
      "\u001b[1;31mNameError\u001b[0m                                 Traceback (most recent call last)",
      "Input \u001b[1;32mIn [21]\u001b[0m, in \u001b[0;36m<cell line: 1>\u001b[1;34m()\u001b[0m\n\u001b[1;32m----> 1\u001b[0m df_GV \u001b[38;5;241m=\u001b[39m \u001b[43mdf\u001b[49m[df[\u001b[38;5;124m'\u001b[39m\u001b[38;5;124mDisaster Name\u001b[39m\u001b[38;5;124m'\u001b[39m] \u001b[38;5;241m==\u001b[39m \u001b[38;5;124m'\u001b[39m\u001b[38;5;124mguatemala-volcano\u001b[39m\u001b[38;5;124m'\u001b[39m]\u001b[38;5;241m.\u001b[39mreset_index()\n\u001b[0;32m      2\u001b[0m df_HF \u001b[38;5;241m=\u001b[39m df[df[\u001b[38;5;124m'\u001b[39m\u001b[38;5;124mDisaster Name\u001b[39m\u001b[38;5;124m'\u001b[39m] \u001b[38;5;241m==\u001b[39m \u001b[38;5;124m'\u001b[39m\u001b[38;5;124mhurricane-florence\u001b[39m\u001b[38;5;124m'\u001b[39m]\u001b[38;5;241m.\u001b[39mreset_index()\n\u001b[0;32m      3\u001b[0m df_HH \u001b[38;5;241m=\u001b[39m df[df[\u001b[38;5;124m'\u001b[39m\u001b[38;5;124mDisaster Name\u001b[39m\u001b[38;5;124m'\u001b[39m] \u001b[38;5;241m==\u001b[39m \u001b[38;5;124m'\u001b[39m\u001b[38;5;124mhurricane-harvey\u001b[39m\u001b[38;5;124m'\u001b[39m]\u001b[38;5;241m.\u001b[39mreset_index()\n",
      "\u001b[1;31mNameError\u001b[0m: name 'df' is not defined"
     ]
    }
   ],
   "source": [
    "df_GV = df[df['Disaster Name'] == 'guatemala-volcano'].reset_index()\n",
    "df_HF = df[df['Disaster Name'] == 'hurricane-florence'].reset_index()\n",
    "df_HH = df[df['Disaster Name'] == 'hurricane-harvey'].reset_index()\n",
    "df_HMa = df[df['Disaster Name'] == 'hurricane-matthew'].reset_index()\n",
    "df_HMi = df[df['Disaster Name'] == 'hurricane-michael'].reset_index()\n",
    "df_ME = df[df['Disaster Name'] == 'mexico-earthquake'].reset_index()\n",
    "df_MF = df[df['Disaster Name'] == 'midwest-flooding'].reset_index()\n",
    "df_PT = df[df['Disaster Name'] == 'palu-tsunami'].reset_index()\n",
    "df_SRW = df[df['Disaster Name'] == 'santa-rosa-wildfire'].reset_index()\n",
    "df_SF = df[df['Disaster Name'] == 'socal-fire'].reset_index()"
   ]
  },
  {
   "cell_type": "code",
   "execution_count": 22,
   "id": "e8af0cae",
   "metadata": {
    "scrolled": false
   },
   "outputs": [
    {
     "ename": "NameError",
     "evalue": "name 'df' is not defined",
     "output_type": "error",
     "traceback": [
      "\u001b[1;31m---------------------------------------------------------------------------\u001b[0m",
      "\u001b[1;31mNameError\u001b[0m                                 Traceback (most recent call last)",
      "Input \u001b[1;32mIn [22]\u001b[0m, in \u001b[0;36m<cell line: 1>\u001b[1;34m()\u001b[0m\n\u001b[1;32m----> 1\u001b[0m \u001b[38;5;28;01mfor\u001b[39;00m disaster_name \u001b[38;5;129;01min\u001b[39;00m \u001b[43mdf\u001b[49m[\u001b[38;5;124m'\u001b[39m\u001b[38;5;124mDisaster Name\u001b[39m\u001b[38;5;124m'\u001b[39m]\u001b[38;5;241m.\u001b[39munique():\n\u001b[0;32m      2\u001b[0m     x \u001b[38;5;241m=\u001b[39m []\n\u001b[0;32m      3\u001b[0m     y \u001b[38;5;241m=\u001b[39m []\n",
      "\u001b[1;31mNameError\u001b[0m: name 'df' is not defined"
     ]
    }
   ],
   "source": [
    "for disaster_name in df['Disaster Name'].unique():\n",
    "    x = []\n",
    "    y = []\n",
    "    status = []\n",
    "    shelterArea = []\n",
    "    df1 = df[df['Disaster Name'] == disaster_name]\n",
    "\n",
    "    df_destroyed = df1[df1['damageStatus'] == 'destroyed']\n",
    "    x.extend(list(df_destroyed['xCentroid']))\n",
    "    y.extend(list(df_destroyed['yCentroid']))\n",
    "    status.extend(list(df_destroyed['damageStatus']))\n",
    "    shelterArea.extend(list(df_destroyed['Shelter Area']))\n",
    "\n",
    "    df_major_damage = df1[df1['damageStatus'] == 'major-damage']\n",
    "    x.extend(list(df_major_damage['xCentroid']))\n",
    "    y.extend(list(df_major_damage['yCentroid']))\n",
    "    status.extend(list(df_major_damage['damageStatus']))\n",
    "    shelterArea.extend(list(df_major_damage['Shelter Area']))\n",
    "\n",
    "    df_minor_damage = df1[df1['damageStatus'] == 'minor-damage']\n",
    "    x.extend(list(df_minor_damage['xCentroid']))\n",
    "    y.extend(list(df_minor_damage['yCentroid']))\n",
    "    status.extend(list(df_minor_damage['damageStatus']))\n",
    "    shelterArea.extend(list(df_minor_damage['Shelter Area']))\n",
    "\n",
    "    df_no_damage = df1[df1['damageStatus'] == 'no-damage']\n",
    "    x.extend(list(df_no_damage['xCentroid']))\n",
    "    y.extend(list(df_no_damage['yCentroid']))\n",
    "    status.extend(list(df_no_damage['damageStatus']))\n",
    "    shelterArea.extend(list(df_no_damage['Shelter Area']))\n",
    "\n",
    "    # df_un_classified = df1[df1['damageStatus'] == 'un-classified']\n",
    "    # x.extend(list(df_un_classified['xCentroid']))\n",
    "    # y.extend(list(df_un_classified['yCentroid']))\n",
    "    # status.extend(list(df_un_classified['damageStatus']))\n",
    "    # shelterArea.extend(list(df_un_classified['Shelter Area']))\n",
    "    \n",
    "    # count = len(df_destroyed) + len(df_major_damage) + len(df_minor_damage)\n",
    "    \n",
    "    dictX = {'xCentroid' : x, 'yCentroid' : y, 'damageStatus' : status, 'Shelter Area' : shelterArea}\n",
    "    df2 = pd.DataFrame(dictX)\n",
    "    \n",
    "    kmeans = KMeans(n_clusters = 5, random_state = 0)\n",
    "    df2['cluster'] = kmeans.fit_predict(df2[['xCentroid', 'yCentroid']])\n",
    "    # get centroids\n",
    "    centroids = kmeans.cluster_centers_\n",
    "    # cen_x and cen_y indicates coordinate of cluster center \n",
    "    cen_x = [i[0] for i in centroids] \n",
    "    cen_y = [i[1] for i in centroids]\n",
    "    ## add to df2\n",
    "    df2['cen_x'] = df2.cluster.map({0:cen_x[0], 1:cen_x[1], 2:cen_x[2]})\n",
    "    df2['cen_y'] = df2.cluster.map({0:cen_y[0], 1:cen_y[1], 2:cen_y[2]})\n",
    "    # define and map colors\n",
    "    colors = ['red', 'orange', 'blue', 'green', 'black']\n",
    "    df2['c'] = df2.damageStatus.map({\"destroyed\":colors[0], \"major-damage\":colors[1], \"minor-damage\":colors[2], \"no-damage\":colors[3], \"un-classified\":colors[4]})\n",
    "    \n",
    "    \n",
    "    fig, ax = plt.subplots(1, figsize=(8,8))\n",
    "    # plt.scatter(df2.xCentroid, df2.yCentroid, c=df2.c, alpha = 0.6, s=10)\n",
    "\n",
    "    # plt.plot(df_un_classified['xCentroid'], df_un_classified['yCentroid'], color = 'black', label = 'un-classified')\n",
    "    plt.plot(df_no_damage['xCentroid'], df_no_damage['yCentroid'], color = 'gray', ls = '', marker = '.', markersize = 2, label = 'no-damage')\n",
    "    plt.plot(df_minor_damage['xCentroid'], df_minor_damage['yCentroid'], color = 'blue', ls = '', marker = '^', markersize = 3,label = 'minor-damage')\n",
    "    plt.plot(df_major_damage['xCentroid'], df_major_damage['yCentroid'], color = 'orange', ls = '', marker = 'd', markersize = 4,label = 'major-damage')\n",
    "    plt.plot(df_destroyed['xCentroid'], df_destroyed['yCentroid'], color = 'red', ls = '', marker = 'o', markersize = 5, label = 'destroyed')\n",
    "    plt.title(disaster_name, fontsize = 25)\n",
    "    plt.xlabel('Longitude', fontsize = 15)\n",
    "    plt.ylabel('Latitude',fontsize = 15)\n",
    "    plt.xticks(fontsize = 15, rotation = 30)\n",
    "    plt.yticks(fontsize = 15, rotation = 30)\n",
    "    plt.legend()\n",
    "\n",
    "    cluster_centerX = []\n",
    "    cluster_centerY = []\n",
    "    for cluster in kmeans.cluster_centers_:\n",
    "        cluster_centerX.append(cluster[0])\n",
    "        cluster_centerY.append(cluster[1])\n",
    "    plt.plot(cluster_centerX, cluster_centerY, color = 'purple', lw = 2, ls = '', marker = '+', markersize = 30, markerfacecolor = 'yellow', markeredgewidth = 3)\n",
    "    # plt.scatter(cen_x, cen_y, marker='^', c=colors, s=70)\n",
    "    \n",
    "    # Disaster Statistics\n",
    "    print('Disaster Name: ', disaster_name)\n",
    "    print(df2['damageStatus'].value_counts())\n",
    "    print('Total Shelter Area = ', sum(df2['Shelter Area']))\n",
    "    df_shelterAreaLessThan150 = df2[df2['Shelter Area'] < 150]\n",
    "    df_temp_destroyed = df_shelterAreaLessThan150[df_shelterAreaLessThan150['damageStatus'] == 'destroyed']\n",
    "    df_temp_major_damage = df_shelterAreaLessThan150[df_shelterAreaLessThan150['damageStatus'] == 'major-damage']\n",
    "    df_temp_minor_damage = df_shelterAreaLessThan150[df_shelterAreaLessThan150['damageStatus'] == 'minor-damage']\n",
    "    df_temp_no_damage = df_shelterAreaLessThan150[df_shelterAreaLessThan150['damageStatus'] == 'no-damage']\n",
    "    print('Total Shelter Area of shelters which are less than 150 square meteres = ', sum(df_shelterAreaLessThan150['Shelter Area']))\n",
    "    print('Destroyed Shelter Area of shelters which are less than 150 square meteres = ', sum(df_temp_destroyed[df_temp_destroyed['Shelter Area'] < 150]['Shelter Area']))\n",
    "    print('Major Damage Shelter Area of shelters which are less than 150 square meteres = ', sum(df_temp_major_damage[df_temp_major_damage['Shelter Area'] < 150]['Shelter Area']))\n",
    "    print('Minor Damage Shelter Area of shelters which are less than 150 square meteres = ', sum(df_temp_minor_damage[df_temp_minor_damage['Shelter Area'] < 150]['Shelter Area']))\n",
    "    print('No Damage Shelter Area of shelters which are less than 150 square meteres = ', sum(df_temp_no_damage[df_temp_no_damage['Shelter Area'] < 150]['Shelter Area']))\n",
    "    df_shelterAreaMoreThan150 = df2[df2['Shelter Area'] >= 150]\n",
    "    print('Total Shelter Area of shelters which are greater than or equal to 150 square meteres = ', sum(df_shelterAreaMoreThan150['Shelter Area']))\n",
    "    print('Population Estimate = ', int(len(df_shelterAreaLessThan150) * 4.8))\n",
    "    print('Estimated number of people affected because of destroyed shelters = ', int(len(df_temp_destroyed[df_temp_destroyed['Shelter Area'] < 150]) * 4.8))\n",
    "    print('Estimated number of people affected because of major-damage shelters = ', int(len(df_temp_major_damage[df_temp_major_damage['Shelter Area'] < 150]) * 4.8))\n",
    "    print('Estimated number of people affected because of minor-damage shelters = ', int(len(df_temp_minor_damage[df_temp_minor_damage['Shelter Area'] < 150]) * 4.8))\n",
    "    print('Estimated number of people affected because of no-damage shelters = ', int(len(df_temp_no_damage[df_temp_no_damage['Shelter Area'] < 150]) * 4.8))\n",
    "    print()\n",
    "    \n",
    "    area = []\n",
    "    perimeter = []\n",
    "    for i in df2.cluster.unique():\n",
    "        # Cluster Statistics\n",
    "        print('Disaster Name: ', disaster_name, ' - Cluster Label = ', i)\n",
    "        print('Number of shelters in cluster ', i, ' = ', len(df2[df2['cluster'] == i]))\n",
    "        print(df2[df2['cluster'] == i]['damageStatus'].value_counts())\n",
    "        # Shelter Area\n",
    "        print('Total Shelter Area of shelters in cluster ', i, ' = ', sum(df2[df2['cluster'] == i]['Shelter Area']))\n",
    "        df_cluster = df2[df2['cluster'] == i]\n",
    "        df_cluster_destroyed = df_cluster[df_cluster['damageStatus'] == 'destroyed']\n",
    "        df_cluster_major_damage = df_cluster[df_cluster['damageStatus'] == 'major-damage']\n",
    "        df_cluster_minor_damage = df_cluster[df_cluster['damageStatus'] == 'minor-damage']\n",
    "        df_cluster_no_damage = df_cluster[df_cluster['damageStatus'] == 'no-damage']\n",
    "        print('Total Shelter Area of shelters in cluster ', i, ' which are less than 150 square meteres = ', sum(df_cluster[df_cluster['Shelter Area'] < 150]['Shelter Area']))\n",
    "        print('Total Shelter Area of shelters in cluster ', i, ' which are greater than or equal to 150 square meteres = ', sum(df_cluster[df_cluster['Shelter Area'] > 150]['Shelter Area']))\n",
    "        print('Destroyed Shelter Area = ',sum(df_cluster_destroyed['Shelter Area']))\n",
    "        print('Destroyed Shelter Area of shelters which are less than 150 square meteres = ', sum(df_cluster_destroyed[df_cluster_destroyed['Shelter Area'] < 150]['Shelter Area']))\n",
    "        print('Major Damage Shelter Area of shelters which are less than 150 square meteres = ', sum(df_cluster_major_damage[df_cluster_major_damage['Shelter Area'] < 150]['Shelter Area']))\n",
    "        print('Minor Damage Shelter Area of shelters which are less than 150 square meteres = ', sum(df_cluster_minor_damage[df_cluster_minor_damage['Shelter Area'] < 150]['Shelter Area']))\n",
    "        print('No Damage Shelter Area of shelters which are less than 150 square meteres = ', sum(df_cluster_no_damage[df_cluster_no_damage['Shelter Area'] < 150]['Shelter Area']))\n",
    "        \n",
    "        # Population Estimate\n",
    "        print('Population Estimate in cluster', i, ' = ', int(len(df2[df2['cluster'] == i]) * 4.8))\n",
    "        print('Estimated number of people affected because of destroyed shelters = ', int(len(df_cluster_destroyed[df_cluster_destroyed['Shelter Area'] < 150]) * 4.8))\n",
    "        print('Estimated number of people affected because of major-damage shelters = ', int(len(df_cluster_major_damage[df_cluster_major_damage['Shelter Area'] < 150]) * 4.8))\n",
    "        print('Estimated number of people affected because of minor-damage shelters = ', int(len(df_cluster_minor_damage[df_cluster_minor_damage['Shelter Area'] < 150]) * 4.8))\n",
    "        print('Estimated number of people affected because of no-damage shelters = ', int(len(df_cluster_no_damage[df_cluster_no_damage['Shelter Area'] < 150]) * 4.8))\n",
    "        print()\n",
    "        # get the convex hull\n",
    "        points = df2[df2.cluster == i][['xCentroid', 'yCentroid']].values\n",
    "        hull = ConvexHull(points)\n",
    "        area.append(hull.volume)\n",
    "        perimeter.append(hull.area)\n",
    "        x_hull = np.append(points[hull.vertices,0],\n",
    "                           points[hull.vertices,0][0])\n",
    "        y_hull = np.append(points[hull.vertices,1],\n",
    "                           points[hull.vertices,1][0])\n",
    "        # interpolate\n",
    "        dist = np.sqrt((x_hull[:-1] - x_hull[1:])**2 + (y_hull[:-1] - y_hull[1:])**2)\n",
    "        dist_along = np.concatenate(([0], dist.cumsum()))\n",
    "        spline, u = interpolate.splprep([x_hull, y_hull], \n",
    "                                        u=dist_along, s=0, per=1)\n",
    "        interp_d = np.linspace(dist_along[0], dist_along[-1], 50)\n",
    "        interp_x, interp_y = interpolate.splev(interp_d, spline)\n",
    "        # plot shape\n",
    "        plt.fill(interp_x, interp_y, '--', c=colors[i], alpha=0.2)\n",
    "    print('----------------------------------------------------------')\n",
    "    # plt.xlim(-200,200)\n",
    "    # plt.ylim(-200,200)\n",
    "    plt.savefig('KMeans 5 Clusters ' + disaster_name)"
   ]
  },
  {
   "cell_type": "code",
   "execution_count": 23,
   "id": "767a0b68",
   "metadata": {},
   "outputs": [],
   "source": [
    "# db = DBSCAN(eps = 0.1, min_samples = 5).fit(df_HMa[['xCentroid', 'yCentroid']])\n",
    "# labels = db.labels_\n",
    "# df_HMa['cluster'] = labels\n",
    "\n",
    "# # Number of clusters in labels, ignoring noise if present.\n",
    "# n_clusters_ = len(set(labels)) - (1 if -1 in labels else 0)\n",
    "# n_noise_ = list(labels).count(-1)\n",
    "\n",
    "# print(\"Estimated number of clusters: %d\" % n_clusters_)\n",
    "# print(\"Estimated number of noise points: %d\" % n_noise_)"
   ]
  },
  {
   "cell_type": "code",
   "execution_count": 24,
   "id": "cd1eacdf",
   "metadata": {},
   "outputs": [],
   "source": [
    "def getDBSCANclusters(disaster_name,eps):\n",
    "    X = []\n",
    "    x = []\n",
    "    y = []\n",
    "    status = []\n",
    "    shelterArea = []\n",
    "    df1 = df[df['Disaster Name'] == disaster_name]\n",
    "\n",
    "    df_destroyed = df1[df1['damageStatus'] == 'destroyed']\n",
    "    x.extend(list(df_destroyed['xCentroid']))\n",
    "    y.extend(list(df_destroyed['yCentroid']))\n",
    "    status.extend(list(df_destroyed['damageStatus']))\n",
    "    shelterArea.extend(list(df_destroyed['Shelter Area']))\n",
    "\n",
    "    df_major_damage = df1[df1['damageStatus'] == 'major-damage']\n",
    "    x.extend(list(df_major_damage['xCentroid']))\n",
    "    y.extend(list(df_major_damage['yCentroid']))\n",
    "    status.extend(list(df_major_damage['damageStatus']))\n",
    "    shelterArea.extend(list(df_major_damage['Shelter Area']))\n",
    "\n",
    "    df_minor_damage = df1[df1['damageStatus'] == 'minor-damage']\n",
    "    x.extend(list(df_minor_damage['xCentroid']))\n",
    "    y.extend(list(df_minor_damage['yCentroid']))\n",
    "    status.extend(list(df_minor_damage['damageStatus']))\n",
    "    shelterArea.extend(list(df_minor_damage['Shelter Area']))\n",
    "\n",
    "    df_no_damage = df1[df1['damageStatus'] == 'no-damage']\n",
    "    x.extend(list(df_no_damage['xCentroid']))\n",
    "    y.extend(list(df_no_damage['yCentroid']))\n",
    "    status.extend(list(df_no_damage['damageStatus']))\n",
    "    shelterArea.extend(list(df_no_damage['Shelter Area']))\n",
    "\n",
    "    df_un_classified = df1[df1['damageStatus'] == 'un-classified']\n",
    "    x.extend(list(df_un_classified['xCentroid']))\n",
    "    y.extend(list(df_un_classified['yCentroid']))\n",
    "    status.extend(list(df_un_classified['damageStatus']))\n",
    "    shelterArea.extend(list(df_un_classified['Shelter Area']))\n",
    "    \n",
    "    # count = len(df_destroyed) + len(df_major_damage) + len(df_minor_damage)\n",
    "\n",
    "    dictX = {'xCentroid' : x, 'yCentroid' : y, 'damageStatus' : status, 'Shelter Area' : shelterArea}\n",
    "    df2 = pd.DataFrame(dictX)\n",
    "\n",
    "    clusters = DBSCAN(eps = eps, min_samples = 10).fit(df2[['xCentroid', 'yCentroid']])\n",
    "    df2['cluster'] = clusters.labels_\n",
    "\n",
    "    fig, ax = plt.subplots(1, figsize=(12,12))\n",
    "    # plt.scatter(df2.xCentroid, df2.yCentroid, c=df2.c, alpha = 0.6, s=10)\n",
    "\n",
    "    plt.plot(df_un_classified['xCentroid'], df_un_classified['yCentroid'], color = 'black', ls = '', marker = '.', markersize = 2, label = 'un-classified')\n",
    "    plt.plot(df_no_damage['xCentroid'], df_no_damage['yCentroid'], color = 'gray', ls = '', marker = '.', markersize = 2, label = 'no-damage')\n",
    "    plt.plot(df_minor_damage['xCentroid'], df_minor_damage['yCentroid'], color = 'blue', ls = '', marker = '^', markersize = 3,label = 'minor-damage')\n",
    "    plt.plot(df_major_damage['xCentroid'], df_major_damage['yCentroid'], color = 'orange', ls = '', marker = 'd', markersize = 4,label = 'major-damage')\n",
    "    plt.plot(df_destroyed['xCentroid'], df_destroyed['yCentroid'], color = 'red', ls = '', marker = 'o', markersize = 5, label = 'destroyed')\n",
    "    plt.title(disaster_name, fontsize = 25)\n",
    "    plt.xlabel('Longitude', fontsize = 15)\n",
    "    plt.ylabel('Latitude',fontsize = 15)\n",
    "    plt.xticks(fontsize = 15, rotation = 30)\n",
    "    plt.yticks(fontsize = 15, rotation = 30)\n",
    "    plt.legend()\n",
    "    \n",
    "    # Disaster Statistics\n",
    "    print('Disaster Name: ', disaster_name)\n",
    "    print(df2['damageStatus'].value_counts())\n",
    "    print('Total Shelter Area = ', sum(df2['Shelter Area']))\n",
    "    df_shelterAreaLessThan150 = df2[df2['Shelter Area'] < 150]\n",
    "    df_temp_destroyed = df_shelterAreaLessThan150[df_shelterAreaLessThan150['damageStatus'] == 'destroyed']\n",
    "    df_temp_major_damage = df_shelterAreaLessThan150[df_shelterAreaLessThan150['damageStatus'] == 'major-damage']\n",
    "    df_temp_minor_damage = df_shelterAreaLessThan150[df_shelterAreaLessThan150['damageStatus'] == 'minor-damage']\n",
    "    df_temp_no_damage = df_shelterAreaLessThan150[df_shelterAreaLessThan150['damageStatus'] == 'no-damage']\n",
    "    print('Total Shelter Area of shelters which are less than 150 square meteres = ', sum(df_shelterAreaLessThan150['Shelter Area']))\n",
    "    print('Destroyed Shelter Area of shelters which are less than 150 square meteres = ', sum(df_temp_destroyed[df_temp_destroyed['Shelter Area'] < 150]['Shelter Area']))\n",
    "    print('Major Damage Shelter Area of shelters which are less than 150 square meteres = ', sum(df_temp_major_damage[df_temp_major_damage['Shelter Area'] < 150]['Shelter Area']))\n",
    "    print('Minor Damage Shelter Area of shelters which are less than 150 square meteres = ', sum(df_temp_minor_damage[df_temp_minor_damage['Shelter Area'] < 150]['Shelter Area']))\n",
    "    print('No Damage Shelter Area of shelters which are less than 150 square meteres = ', sum(df_temp_no_damage[df_temp_no_damage['Shelter Area'] < 150]['Shelter Area']))\n",
    "    df_shelterAreaMoreThan150 = df2[df2['Shelter Area'] >= 150]\n",
    "    print('Total Shelter Area of shelters which are greater than or equal to 150 square meteres = ', sum(df_shelterAreaMoreThan150['Shelter Area']))\n",
    "    print('Population Estimate = ', int(len(df_shelterAreaLessThan150) * 4.8))\n",
    "    print('Estimated number of people affected because of destroyed shelters = ', int(len(df_temp_destroyed[df_temp_destroyed['Shelter Area'] < 150]) * 4.8))\n",
    "    print('Estimated number of people affected because of major-damage shelters = ', int(len(df_temp_major_damage[df_temp_major_damage['Shelter Area'] < 150]) * 4.8))\n",
    "    print('Estimated number of people affected because of minor-damage shelters = ', int(len(df_temp_minor_damage[df_temp_minor_damage['Shelter Area'] < 150]) * 4.8))\n",
    "    print('Estimated number of people affected because of no-damage shelters = ', int(len(df_temp_no_damage[df_temp_no_damage['Shelter Area'] < 150]) * 4.8))\n",
    "    print()\n",
    "    \n",
    "    colors = ['red', 'orange', 'blue', 'green', 'black', 'violet', 'purple', 'pink', 'yellow', 'gray']\n",
    "    area = []\n",
    "    perimeter = []\n",
    "    for i in df2.cluster.unique():\n",
    "        # Cluster Statistics\n",
    "        print('Disaster Name: ', disaster_name, ' - Cluster Label = ', i)\n",
    "        print('Number of shelters in cluster ', i, ' = ', len(df2[df2['cluster'] == i]))\n",
    "        print(df2[df2['cluster'] == i]['damageStatus'].value_counts())\n",
    "        # Shelter Area\n",
    "        print('Total Shelter Area of shelters in cluster ', i, ' = ', sum(df2[df2['cluster'] == i]['Shelter Area']))\n",
    "        df_cluster = df2[df2['cluster'] == i]\n",
    "        df_cluster_destroyed = df_cluster[df_cluster['damageStatus'] == 'destroyed']\n",
    "        df_cluster_major_damage = df_cluster[df_cluster['damageStatus'] == 'major-damage']\n",
    "        df_cluster_minor_damage = df_cluster[df_cluster['damageStatus'] == 'minor-damage']\n",
    "        df_cluster_no_damage = df_cluster[df_cluster['damageStatus'] == 'no-damage']\n",
    "        print('Total Shelter Area of shelters in cluster ', i, ' which are less than 150 square meteres = ', sum(df_cluster[df_cluster['Shelter Area'] < 150]['Shelter Area']))\n",
    "        print('Total Shelter Area of shelters in cluster ', i, ' which are greater than or equal to 150 square meteres = ', sum(df_cluster[df_cluster['Shelter Area'] > 150]['Shelter Area']))\n",
    "        print('Destroyed Shelter Area = ',sum(df_cluster_destroyed['Shelter Area']))\n",
    "        print('Destroyed Shelter Area of shelters which are less than 150 square meteres = ', sum(df_cluster_destroyed[df_cluster_destroyed['Shelter Area'] < 150]['Shelter Area']))\n",
    "        print('Major Damage Shelter Area of shelters which are less than 150 square meteres = ', sum(df_cluster_major_damage[df_cluster_major_damage['Shelter Area'] < 150]['Shelter Area']))\n",
    "        print('Minor Damage Shelter Area of shelters which are less than 150 square meteres = ', sum(df_cluster_minor_damage[df_cluster_minor_damage['Shelter Area'] < 150]['Shelter Area']))\n",
    "        print('No Damage Shelter Area of shelters which are less than 150 square meteres = ', sum(df_cluster_no_damage[df_cluster_no_damage['Shelter Area'] < 150]['Shelter Area']))\n",
    "        \n",
    "        # Population Estimate\n",
    "        print('Population Estimate in cluster', i, ' = ', int(len(df2[df2['cluster'] == i]) * 4.8))\n",
    "        print('Estimated number of people affected because of destroyed shelters = ', int(len(df_cluster_destroyed[df_cluster_destroyed['Shelter Area'] < 150]) * 4.8))\n",
    "        print('Estimated number of people affected because of major-damage shelters = ', int(len(df_cluster_major_damage[df_cluster_major_damage['Shelter Area'] < 150]) * 4.8))\n",
    "        print('Estimated number of people affected because of minor-damage shelters = ', int(len(df_cluster_minor_damage[df_cluster_minor_damage['Shelter Area'] < 150]) * 4.8))\n",
    "        print('Estimated number of people affected because of no-damage shelters = ', int(len(df_cluster_no_damage[df_cluster_no_damage['Shelter Area'] < 150]) * 4.8))\n",
    "        print()\n",
    "        \n",
    "        # get the convex hull\n",
    "        points = df2[df2.cluster == i][['xCentroid', 'yCentroid']].values\n",
    "        hull = ConvexHull(points)\n",
    "        area.append(hull.volume)\n",
    "        perimeter.append(hull.area)\n",
    "        x_hull = np.append(points[hull.vertices,0],\n",
    "                           points[hull.vertices,0][0])\n",
    "        y_hull = np.append(points[hull.vertices,1],\n",
    "                           points[hull.vertices,1][0])\n",
    "        # interpolate\n",
    "        dist = np.sqrt((x_hull[:-1] - x_hull[1:])**2 + (y_hull[:-1] - y_hull[1:])**2)\n",
    "        dist_along = np.concatenate(([0], dist.cumsum()))\n",
    "        spline, u = interpolate.splprep([x_hull, y_hull], \n",
    "                                        u=dist_along, s=0, per=1)\n",
    "        interp_d = np.linspace(dist_along[0], dist_along[-1], 50)\n",
    "        interp_x, interp_y = interpolate.splev(interp_d, spline)\n",
    "        # plot shape\n",
    "        plt.fill(interp_x, interp_y, '--', c=colors[i], alpha=0.2)\n",
    "    plt.savefig('DBSCAN Clusters ' + disaster_name)\n",
    "    plt.show()\n",
    "    print(set(clusters.labels_))"
   ]
  },
  {
   "cell_type": "code",
   "execution_count": 25,
   "id": "b8f75867",
   "metadata": {},
   "outputs": [
    {
     "ename": "NameError",
     "evalue": "name 'df' is not defined",
     "output_type": "error",
     "traceback": [
      "\u001b[1;31m---------------------------------------------------------------------------\u001b[0m",
      "\u001b[1;31mNameError\u001b[0m                                 Traceback (most recent call last)",
      "Input \u001b[1;32mIn [25]\u001b[0m, in \u001b[0;36m<cell line: 1>\u001b[1;34m()\u001b[0m\n\u001b[1;32m----> 1\u001b[0m \u001b[43mdf\u001b[49m[\u001b[38;5;124m'\u001b[39m\u001b[38;5;124mDisaster Name\u001b[39m\u001b[38;5;124m'\u001b[39m]\u001b[38;5;241m.\u001b[39munique()\n",
      "\u001b[1;31mNameError\u001b[0m: name 'df' is not defined"
     ]
    }
   ],
   "source": [
    "df['Disaster Name'].unique()"
   ]
  },
  {
   "cell_type": "code",
   "execution_count": 26,
   "id": "4c97de74",
   "metadata": {
    "scrolled": false
   },
   "outputs": [
    {
     "ename": "NameError",
     "evalue": "name 'df' is not defined",
     "output_type": "error",
     "traceback": [
      "\u001b[1;31m---------------------------------------------------------------------------\u001b[0m",
      "\u001b[1;31mNameError\u001b[0m                                 Traceback (most recent call last)",
      "Input \u001b[1;32mIn [26]\u001b[0m, in \u001b[0;36m<cell line: 1>\u001b[1;34m()\u001b[0m\n\u001b[1;32m----> 1\u001b[0m \u001b[43mgetDBSCANclusters\u001b[49m\u001b[43m(\u001b[49m\u001b[38;5;124;43m'\u001b[39;49m\u001b[38;5;124;43mguatemala-volcano\u001b[39;49m\u001b[38;5;124;43m'\u001b[39;49m\u001b[43m,\u001b[49m\u001b[43m \u001b[49m\u001b[38;5;241;43m0.015\u001b[39;49m\u001b[43m)\u001b[49m\n",
      "Input \u001b[1;32mIn [24]\u001b[0m, in \u001b[0;36mgetDBSCANclusters\u001b[1;34m(disaster_name, eps)\u001b[0m\n\u001b[0;32m      5\u001b[0m status \u001b[38;5;241m=\u001b[39m []\n\u001b[0;32m      6\u001b[0m shelterArea \u001b[38;5;241m=\u001b[39m []\n\u001b[1;32m----> 7\u001b[0m df1 \u001b[38;5;241m=\u001b[39m \u001b[43mdf\u001b[49m[df[\u001b[38;5;124m'\u001b[39m\u001b[38;5;124mDisaster Name\u001b[39m\u001b[38;5;124m'\u001b[39m] \u001b[38;5;241m==\u001b[39m disaster_name]\n\u001b[0;32m      9\u001b[0m df_destroyed \u001b[38;5;241m=\u001b[39m df1[df1[\u001b[38;5;124m'\u001b[39m\u001b[38;5;124mdamageStatus\u001b[39m\u001b[38;5;124m'\u001b[39m] \u001b[38;5;241m==\u001b[39m \u001b[38;5;124m'\u001b[39m\u001b[38;5;124mdestroyed\u001b[39m\u001b[38;5;124m'\u001b[39m]\n\u001b[0;32m     10\u001b[0m x\u001b[38;5;241m.\u001b[39mextend(\u001b[38;5;28mlist\u001b[39m(df_destroyed[\u001b[38;5;124m'\u001b[39m\u001b[38;5;124mxCentroid\u001b[39m\u001b[38;5;124m'\u001b[39m]))\n",
      "\u001b[1;31mNameError\u001b[0m: name 'df' is not defined"
     ]
    }
   ],
   "source": [
    "getDBSCANclusters('guatemala-volcano', 0.015)"
   ]
  },
  {
   "cell_type": "code",
   "execution_count": 27,
   "id": "1be6362d",
   "metadata": {
    "scrolled": false
   },
   "outputs": [
    {
     "ename": "NameError",
     "evalue": "name 'df' is not defined",
     "output_type": "error",
     "traceback": [
      "\u001b[1;31m---------------------------------------------------------------------------\u001b[0m",
      "\u001b[1;31mNameError\u001b[0m                                 Traceback (most recent call last)",
      "Input \u001b[1;32mIn [27]\u001b[0m, in \u001b[0;36m<cell line: 1>\u001b[1;34m()\u001b[0m\n\u001b[1;32m----> 1\u001b[0m \u001b[43mgetDBSCANclusters\u001b[49m\u001b[43m(\u001b[49m\u001b[38;5;124;43m'\u001b[39;49m\u001b[38;5;124;43mhurricane-florence\u001b[39;49m\u001b[38;5;124;43m'\u001b[39;49m\u001b[43m,\u001b[49m\u001b[43m \u001b[49m\u001b[38;5;241;43m0.5\u001b[39;49m\u001b[43m)\u001b[49m\n",
      "Input \u001b[1;32mIn [24]\u001b[0m, in \u001b[0;36mgetDBSCANclusters\u001b[1;34m(disaster_name, eps)\u001b[0m\n\u001b[0;32m      5\u001b[0m status \u001b[38;5;241m=\u001b[39m []\n\u001b[0;32m      6\u001b[0m shelterArea \u001b[38;5;241m=\u001b[39m []\n\u001b[1;32m----> 7\u001b[0m df1 \u001b[38;5;241m=\u001b[39m \u001b[43mdf\u001b[49m[df[\u001b[38;5;124m'\u001b[39m\u001b[38;5;124mDisaster Name\u001b[39m\u001b[38;5;124m'\u001b[39m] \u001b[38;5;241m==\u001b[39m disaster_name]\n\u001b[0;32m      9\u001b[0m df_destroyed \u001b[38;5;241m=\u001b[39m df1[df1[\u001b[38;5;124m'\u001b[39m\u001b[38;5;124mdamageStatus\u001b[39m\u001b[38;5;124m'\u001b[39m] \u001b[38;5;241m==\u001b[39m \u001b[38;5;124m'\u001b[39m\u001b[38;5;124mdestroyed\u001b[39m\u001b[38;5;124m'\u001b[39m]\n\u001b[0;32m     10\u001b[0m x\u001b[38;5;241m.\u001b[39mextend(\u001b[38;5;28mlist\u001b[39m(df_destroyed[\u001b[38;5;124m'\u001b[39m\u001b[38;5;124mxCentroid\u001b[39m\u001b[38;5;124m'\u001b[39m]))\n",
      "\u001b[1;31mNameError\u001b[0m: name 'df' is not defined"
     ]
    }
   ],
   "source": [
    "getDBSCANclusters('hurricane-florence', 0.5)"
   ]
  },
  {
   "cell_type": "code",
   "execution_count": 28,
   "id": "d22fc46d",
   "metadata": {
    "scrolled": false
   },
   "outputs": [
    {
     "ename": "NameError",
     "evalue": "name 'df' is not defined",
     "output_type": "error",
     "traceback": [
      "\u001b[1;31m---------------------------------------------------------------------------\u001b[0m",
      "\u001b[1;31mNameError\u001b[0m                                 Traceback (most recent call last)",
      "Input \u001b[1;32mIn [28]\u001b[0m, in \u001b[0;36m<cell line: 1>\u001b[1;34m()\u001b[0m\n\u001b[1;32m----> 1\u001b[0m \u001b[43mgetDBSCANclusters\u001b[49m\u001b[43m(\u001b[49m\u001b[38;5;124;43m'\u001b[39;49m\u001b[38;5;124;43mhurricane-harvey\u001b[39;49m\u001b[38;5;124;43m'\u001b[39;49m\u001b[43m,\u001b[49m\u001b[43m \u001b[49m\u001b[38;5;241;43m0.05\u001b[39;49m\u001b[43m)\u001b[49m\n",
      "Input \u001b[1;32mIn [24]\u001b[0m, in \u001b[0;36mgetDBSCANclusters\u001b[1;34m(disaster_name, eps)\u001b[0m\n\u001b[0;32m      5\u001b[0m status \u001b[38;5;241m=\u001b[39m []\n\u001b[0;32m      6\u001b[0m shelterArea \u001b[38;5;241m=\u001b[39m []\n\u001b[1;32m----> 7\u001b[0m df1 \u001b[38;5;241m=\u001b[39m \u001b[43mdf\u001b[49m[df[\u001b[38;5;124m'\u001b[39m\u001b[38;5;124mDisaster Name\u001b[39m\u001b[38;5;124m'\u001b[39m] \u001b[38;5;241m==\u001b[39m disaster_name]\n\u001b[0;32m      9\u001b[0m df_destroyed \u001b[38;5;241m=\u001b[39m df1[df1[\u001b[38;5;124m'\u001b[39m\u001b[38;5;124mdamageStatus\u001b[39m\u001b[38;5;124m'\u001b[39m] \u001b[38;5;241m==\u001b[39m \u001b[38;5;124m'\u001b[39m\u001b[38;5;124mdestroyed\u001b[39m\u001b[38;5;124m'\u001b[39m]\n\u001b[0;32m     10\u001b[0m x\u001b[38;5;241m.\u001b[39mextend(\u001b[38;5;28mlist\u001b[39m(df_destroyed[\u001b[38;5;124m'\u001b[39m\u001b[38;5;124mxCentroid\u001b[39m\u001b[38;5;124m'\u001b[39m]))\n",
      "\u001b[1;31mNameError\u001b[0m: name 'df' is not defined"
     ]
    }
   ],
   "source": [
    "getDBSCANclusters('hurricane-harvey', 0.05)"
   ]
  },
  {
   "cell_type": "code",
   "execution_count": 29,
   "id": "8f203c62",
   "metadata": {
    "scrolled": false
   },
   "outputs": [
    {
     "ename": "NameError",
     "evalue": "name 'df' is not defined",
     "output_type": "error",
     "traceback": [
      "\u001b[1;31m---------------------------------------------------------------------------\u001b[0m",
      "\u001b[1;31mNameError\u001b[0m                                 Traceback (most recent call last)",
      "Input \u001b[1;32mIn [29]\u001b[0m, in \u001b[0;36m<cell line: 1>\u001b[1;34m()\u001b[0m\n\u001b[1;32m----> 1\u001b[0m \u001b[43mgetDBSCANclusters\u001b[49m\u001b[43m(\u001b[49m\u001b[38;5;124;43m'\u001b[39;49m\u001b[38;5;124;43mhurricane-matthew\u001b[39;49m\u001b[38;5;124;43m'\u001b[39;49m\u001b[43m,\u001b[49m\u001b[43m \u001b[49m\u001b[38;5;241;43m0.015\u001b[39;49m\u001b[43m)\u001b[49m\n",
      "Input \u001b[1;32mIn [24]\u001b[0m, in \u001b[0;36mgetDBSCANclusters\u001b[1;34m(disaster_name, eps)\u001b[0m\n\u001b[0;32m      5\u001b[0m status \u001b[38;5;241m=\u001b[39m []\n\u001b[0;32m      6\u001b[0m shelterArea \u001b[38;5;241m=\u001b[39m []\n\u001b[1;32m----> 7\u001b[0m df1 \u001b[38;5;241m=\u001b[39m \u001b[43mdf\u001b[49m[df[\u001b[38;5;124m'\u001b[39m\u001b[38;5;124mDisaster Name\u001b[39m\u001b[38;5;124m'\u001b[39m] \u001b[38;5;241m==\u001b[39m disaster_name]\n\u001b[0;32m      9\u001b[0m df_destroyed \u001b[38;5;241m=\u001b[39m df1[df1[\u001b[38;5;124m'\u001b[39m\u001b[38;5;124mdamageStatus\u001b[39m\u001b[38;5;124m'\u001b[39m] \u001b[38;5;241m==\u001b[39m \u001b[38;5;124m'\u001b[39m\u001b[38;5;124mdestroyed\u001b[39m\u001b[38;5;124m'\u001b[39m]\n\u001b[0;32m     10\u001b[0m x\u001b[38;5;241m.\u001b[39mextend(\u001b[38;5;28mlist\u001b[39m(df_destroyed[\u001b[38;5;124m'\u001b[39m\u001b[38;5;124mxCentroid\u001b[39m\u001b[38;5;124m'\u001b[39m]))\n",
      "\u001b[1;31mNameError\u001b[0m: name 'df' is not defined"
     ]
    }
   ],
   "source": [
    "getDBSCANclusters('hurricane-matthew', 0.015)"
   ]
  },
  {
   "cell_type": "code",
   "execution_count": 30,
   "id": "f6439b91",
   "metadata": {
    "scrolled": false
   },
   "outputs": [
    {
     "ename": "NameError",
     "evalue": "name 'df' is not defined",
     "output_type": "error",
     "traceback": [
      "\u001b[1;31m---------------------------------------------------------------------------\u001b[0m",
      "\u001b[1;31mNameError\u001b[0m                                 Traceback (most recent call last)",
      "Input \u001b[1;32mIn [30]\u001b[0m, in \u001b[0;36m<cell line: 1>\u001b[1;34m()\u001b[0m\n\u001b[1;32m----> 1\u001b[0m \u001b[43mgetDBSCANclusters\u001b[49m\u001b[43m(\u001b[49m\u001b[38;5;124;43m'\u001b[39;49m\u001b[38;5;124;43mhurricane-michael\u001b[39;49m\u001b[38;5;124;43m'\u001b[39;49m\u001b[43m,\u001b[49m\u001b[43m \u001b[49m\u001b[38;5;241;43m0.05\u001b[39;49m\u001b[43m)\u001b[49m\n",
      "Input \u001b[1;32mIn [24]\u001b[0m, in \u001b[0;36mgetDBSCANclusters\u001b[1;34m(disaster_name, eps)\u001b[0m\n\u001b[0;32m      5\u001b[0m status \u001b[38;5;241m=\u001b[39m []\n\u001b[0;32m      6\u001b[0m shelterArea \u001b[38;5;241m=\u001b[39m []\n\u001b[1;32m----> 7\u001b[0m df1 \u001b[38;5;241m=\u001b[39m \u001b[43mdf\u001b[49m[df[\u001b[38;5;124m'\u001b[39m\u001b[38;5;124mDisaster Name\u001b[39m\u001b[38;5;124m'\u001b[39m] \u001b[38;5;241m==\u001b[39m disaster_name]\n\u001b[0;32m      9\u001b[0m df_destroyed \u001b[38;5;241m=\u001b[39m df1[df1[\u001b[38;5;124m'\u001b[39m\u001b[38;5;124mdamageStatus\u001b[39m\u001b[38;5;124m'\u001b[39m] \u001b[38;5;241m==\u001b[39m \u001b[38;5;124m'\u001b[39m\u001b[38;5;124mdestroyed\u001b[39m\u001b[38;5;124m'\u001b[39m]\n\u001b[0;32m     10\u001b[0m x\u001b[38;5;241m.\u001b[39mextend(\u001b[38;5;28mlist\u001b[39m(df_destroyed[\u001b[38;5;124m'\u001b[39m\u001b[38;5;124mxCentroid\u001b[39m\u001b[38;5;124m'\u001b[39m]))\n",
      "\u001b[1;31mNameError\u001b[0m: name 'df' is not defined"
     ]
    }
   ],
   "source": [
    "getDBSCANclusters('hurricane-michael', 0.05)"
   ]
  },
  {
   "cell_type": "code",
   "execution_count": 31,
   "id": "210219bd",
   "metadata": {
    "scrolled": false
   },
   "outputs": [
    {
     "ename": "NameError",
     "evalue": "name 'df' is not defined",
     "output_type": "error",
     "traceback": [
      "\u001b[1;31m---------------------------------------------------------------------------\u001b[0m",
      "\u001b[1;31mNameError\u001b[0m                                 Traceback (most recent call last)",
      "Input \u001b[1;32mIn [31]\u001b[0m, in \u001b[0;36m<cell line: 1>\u001b[1;34m()\u001b[0m\n\u001b[1;32m----> 1\u001b[0m \u001b[43mgetDBSCANclusters\u001b[49m\u001b[43m(\u001b[49m\u001b[38;5;124;43m'\u001b[39;49m\u001b[38;5;124;43mmexico-earthquake\u001b[39;49m\u001b[38;5;124;43m'\u001b[39;49m\u001b[43m,\u001b[49m\u001b[43m \u001b[49m\u001b[38;5;241;43m0.015\u001b[39;49m\u001b[43m)\u001b[49m\n",
      "Input \u001b[1;32mIn [24]\u001b[0m, in \u001b[0;36mgetDBSCANclusters\u001b[1;34m(disaster_name, eps)\u001b[0m\n\u001b[0;32m      5\u001b[0m status \u001b[38;5;241m=\u001b[39m []\n\u001b[0;32m      6\u001b[0m shelterArea \u001b[38;5;241m=\u001b[39m []\n\u001b[1;32m----> 7\u001b[0m df1 \u001b[38;5;241m=\u001b[39m \u001b[43mdf\u001b[49m[df[\u001b[38;5;124m'\u001b[39m\u001b[38;5;124mDisaster Name\u001b[39m\u001b[38;5;124m'\u001b[39m] \u001b[38;5;241m==\u001b[39m disaster_name]\n\u001b[0;32m      9\u001b[0m df_destroyed \u001b[38;5;241m=\u001b[39m df1[df1[\u001b[38;5;124m'\u001b[39m\u001b[38;5;124mdamageStatus\u001b[39m\u001b[38;5;124m'\u001b[39m] \u001b[38;5;241m==\u001b[39m \u001b[38;5;124m'\u001b[39m\u001b[38;5;124mdestroyed\u001b[39m\u001b[38;5;124m'\u001b[39m]\n\u001b[0;32m     10\u001b[0m x\u001b[38;5;241m.\u001b[39mextend(\u001b[38;5;28mlist\u001b[39m(df_destroyed[\u001b[38;5;124m'\u001b[39m\u001b[38;5;124mxCentroid\u001b[39m\u001b[38;5;124m'\u001b[39m]))\n",
      "\u001b[1;31mNameError\u001b[0m: name 'df' is not defined"
     ]
    }
   ],
   "source": [
    "getDBSCANclusters('mexico-earthquake', 0.015)"
   ]
  },
  {
   "cell_type": "code",
   "execution_count": 32,
   "id": "6cc6a1d3",
   "metadata": {
    "scrolled": false
   },
   "outputs": [
    {
     "ename": "NameError",
     "evalue": "name 'df' is not defined",
     "output_type": "error",
     "traceback": [
      "\u001b[1;31m---------------------------------------------------------------------------\u001b[0m",
      "\u001b[1;31mNameError\u001b[0m                                 Traceback (most recent call last)",
      "Input \u001b[1;32mIn [32]\u001b[0m, in \u001b[0;36m<cell line: 1>\u001b[1;34m()\u001b[0m\n\u001b[1;32m----> 1\u001b[0m \u001b[43mgetDBSCANclusters\u001b[49m\u001b[43m(\u001b[49m\u001b[38;5;124;43m'\u001b[39;49m\u001b[38;5;124;43mmidwest-flooding\u001b[39;49m\u001b[38;5;124;43m'\u001b[39;49m\u001b[43m,\u001b[49m\u001b[43m \u001b[49m\u001b[38;5;241;43m0.15\u001b[39;49m\u001b[43m)\u001b[49m\n",
      "Input \u001b[1;32mIn [24]\u001b[0m, in \u001b[0;36mgetDBSCANclusters\u001b[1;34m(disaster_name, eps)\u001b[0m\n\u001b[0;32m      5\u001b[0m status \u001b[38;5;241m=\u001b[39m []\n\u001b[0;32m      6\u001b[0m shelterArea \u001b[38;5;241m=\u001b[39m []\n\u001b[1;32m----> 7\u001b[0m df1 \u001b[38;5;241m=\u001b[39m \u001b[43mdf\u001b[49m[df[\u001b[38;5;124m'\u001b[39m\u001b[38;5;124mDisaster Name\u001b[39m\u001b[38;5;124m'\u001b[39m] \u001b[38;5;241m==\u001b[39m disaster_name]\n\u001b[0;32m      9\u001b[0m df_destroyed \u001b[38;5;241m=\u001b[39m df1[df1[\u001b[38;5;124m'\u001b[39m\u001b[38;5;124mdamageStatus\u001b[39m\u001b[38;5;124m'\u001b[39m] \u001b[38;5;241m==\u001b[39m \u001b[38;5;124m'\u001b[39m\u001b[38;5;124mdestroyed\u001b[39m\u001b[38;5;124m'\u001b[39m]\n\u001b[0;32m     10\u001b[0m x\u001b[38;5;241m.\u001b[39mextend(\u001b[38;5;28mlist\u001b[39m(df_destroyed[\u001b[38;5;124m'\u001b[39m\u001b[38;5;124mxCentroid\u001b[39m\u001b[38;5;124m'\u001b[39m]))\n",
      "\u001b[1;31mNameError\u001b[0m: name 'df' is not defined"
     ]
    }
   ],
   "source": [
    "getDBSCANclusters('midwest-flooding', 0.15)"
   ]
  },
  {
   "cell_type": "code",
   "execution_count": 33,
   "id": "f17cdc23",
   "metadata": {
    "scrolled": false
   },
   "outputs": [
    {
     "ename": "NameError",
     "evalue": "name 'df' is not defined",
     "output_type": "error",
     "traceback": [
      "\u001b[1;31m---------------------------------------------------------------------------\u001b[0m",
      "\u001b[1;31mNameError\u001b[0m                                 Traceback (most recent call last)",
      "Input \u001b[1;32mIn [33]\u001b[0m, in \u001b[0;36m<cell line: 1>\u001b[1;34m()\u001b[0m\n\u001b[1;32m----> 1\u001b[0m \u001b[43mgetDBSCANclusters\u001b[49m\u001b[43m(\u001b[49m\u001b[38;5;124;43m'\u001b[39;49m\u001b[38;5;124;43mpalu-tsunami\u001b[39;49m\u001b[38;5;124;43m'\u001b[39;49m\u001b[43m,\u001b[49m\u001b[43m \u001b[49m\u001b[38;5;241;43m0.009\u001b[39;49m\u001b[43m)\u001b[49m\n",
      "Input \u001b[1;32mIn [24]\u001b[0m, in \u001b[0;36mgetDBSCANclusters\u001b[1;34m(disaster_name, eps)\u001b[0m\n\u001b[0;32m      5\u001b[0m status \u001b[38;5;241m=\u001b[39m []\n\u001b[0;32m      6\u001b[0m shelterArea \u001b[38;5;241m=\u001b[39m []\n\u001b[1;32m----> 7\u001b[0m df1 \u001b[38;5;241m=\u001b[39m \u001b[43mdf\u001b[49m[df[\u001b[38;5;124m'\u001b[39m\u001b[38;5;124mDisaster Name\u001b[39m\u001b[38;5;124m'\u001b[39m] \u001b[38;5;241m==\u001b[39m disaster_name]\n\u001b[0;32m      9\u001b[0m df_destroyed \u001b[38;5;241m=\u001b[39m df1[df1[\u001b[38;5;124m'\u001b[39m\u001b[38;5;124mdamageStatus\u001b[39m\u001b[38;5;124m'\u001b[39m] \u001b[38;5;241m==\u001b[39m \u001b[38;5;124m'\u001b[39m\u001b[38;5;124mdestroyed\u001b[39m\u001b[38;5;124m'\u001b[39m]\n\u001b[0;32m     10\u001b[0m x\u001b[38;5;241m.\u001b[39mextend(\u001b[38;5;28mlist\u001b[39m(df_destroyed[\u001b[38;5;124m'\u001b[39m\u001b[38;5;124mxCentroid\u001b[39m\u001b[38;5;124m'\u001b[39m]))\n",
      "\u001b[1;31mNameError\u001b[0m: name 'df' is not defined"
     ]
    }
   ],
   "source": [
    "getDBSCANclusters('palu-tsunami', 0.009)"
   ]
  },
  {
   "cell_type": "code",
   "execution_count": 34,
   "id": "74433f38",
   "metadata": {
    "scrolled": false
   },
   "outputs": [
    {
     "ename": "NameError",
     "evalue": "name 'df' is not defined",
     "output_type": "error",
     "traceback": [
      "\u001b[1;31m---------------------------------------------------------------------------\u001b[0m",
      "\u001b[1;31mNameError\u001b[0m                                 Traceback (most recent call last)",
      "Input \u001b[1;32mIn [34]\u001b[0m, in \u001b[0;36m<cell line: 1>\u001b[1;34m()\u001b[0m\n\u001b[1;32m----> 1\u001b[0m \u001b[43mgetDBSCANclusters\u001b[49m\u001b[43m(\u001b[49m\u001b[38;5;124;43m'\u001b[39;49m\u001b[38;5;124;43msanta-rosa-wildfire\u001b[39;49m\u001b[38;5;124;43m'\u001b[39;49m\u001b[43m,\u001b[49m\u001b[43m \u001b[49m\u001b[38;5;241;43m0.015\u001b[39;49m\u001b[43m)\u001b[49m\n",
      "Input \u001b[1;32mIn [24]\u001b[0m, in \u001b[0;36mgetDBSCANclusters\u001b[1;34m(disaster_name, eps)\u001b[0m\n\u001b[0;32m      5\u001b[0m status \u001b[38;5;241m=\u001b[39m []\n\u001b[0;32m      6\u001b[0m shelterArea \u001b[38;5;241m=\u001b[39m []\n\u001b[1;32m----> 7\u001b[0m df1 \u001b[38;5;241m=\u001b[39m \u001b[43mdf\u001b[49m[df[\u001b[38;5;124m'\u001b[39m\u001b[38;5;124mDisaster Name\u001b[39m\u001b[38;5;124m'\u001b[39m] \u001b[38;5;241m==\u001b[39m disaster_name]\n\u001b[0;32m      9\u001b[0m df_destroyed \u001b[38;5;241m=\u001b[39m df1[df1[\u001b[38;5;124m'\u001b[39m\u001b[38;5;124mdamageStatus\u001b[39m\u001b[38;5;124m'\u001b[39m] \u001b[38;5;241m==\u001b[39m \u001b[38;5;124m'\u001b[39m\u001b[38;5;124mdestroyed\u001b[39m\u001b[38;5;124m'\u001b[39m]\n\u001b[0;32m     10\u001b[0m x\u001b[38;5;241m.\u001b[39mextend(\u001b[38;5;28mlist\u001b[39m(df_destroyed[\u001b[38;5;124m'\u001b[39m\u001b[38;5;124mxCentroid\u001b[39m\u001b[38;5;124m'\u001b[39m]))\n",
      "\u001b[1;31mNameError\u001b[0m: name 'df' is not defined"
     ]
    }
   ],
   "source": [
    "getDBSCANclusters('santa-rosa-wildfire', 0.015)"
   ]
  },
  {
   "cell_type": "code",
   "execution_count": 35,
   "id": "631851c8",
   "metadata": {
    "scrolled": false
   },
   "outputs": [
    {
     "ename": "NameError",
     "evalue": "name 'df' is not defined",
     "output_type": "error",
     "traceback": [
      "\u001b[1;31m---------------------------------------------------------------------------\u001b[0m",
      "\u001b[1;31mNameError\u001b[0m                                 Traceback (most recent call last)",
      "Input \u001b[1;32mIn [35]\u001b[0m, in \u001b[0;36m<cell line: 1>\u001b[1;34m()\u001b[0m\n\u001b[1;32m----> 1\u001b[0m \u001b[43mgetDBSCANclusters\u001b[49m\u001b[43m(\u001b[49m\u001b[38;5;124;43m'\u001b[39;49m\u001b[38;5;124;43msocal-fire\u001b[39;49m\u001b[38;5;124;43m'\u001b[39;49m\u001b[43m,\u001b[49m\u001b[43m \u001b[49m\u001b[38;5;241;43m0.02\u001b[39;49m\u001b[43m)\u001b[49m\n",
      "Input \u001b[1;32mIn [24]\u001b[0m, in \u001b[0;36mgetDBSCANclusters\u001b[1;34m(disaster_name, eps)\u001b[0m\n\u001b[0;32m      5\u001b[0m status \u001b[38;5;241m=\u001b[39m []\n\u001b[0;32m      6\u001b[0m shelterArea \u001b[38;5;241m=\u001b[39m []\n\u001b[1;32m----> 7\u001b[0m df1 \u001b[38;5;241m=\u001b[39m \u001b[43mdf\u001b[49m[df[\u001b[38;5;124m'\u001b[39m\u001b[38;5;124mDisaster Name\u001b[39m\u001b[38;5;124m'\u001b[39m] \u001b[38;5;241m==\u001b[39m disaster_name]\n\u001b[0;32m      9\u001b[0m df_destroyed \u001b[38;5;241m=\u001b[39m df1[df1[\u001b[38;5;124m'\u001b[39m\u001b[38;5;124mdamageStatus\u001b[39m\u001b[38;5;124m'\u001b[39m] \u001b[38;5;241m==\u001b[39m \u001b[38;5;124m'\u001b[39m\u001b[38;5;124mdestroyed\u001b[39m\u001b[38;5;124m'\u001b[39m]\n\u001b[0;32m     10\u001b[0m x\u001b[38;5;241m.\u001b[39mextend(\u001b[38;5;28mlist\u001b[39m(df_destroyed[\u001b[38;5;124m'\u001b[39m\u001b[38;5;124mxCentroid\u001b[39m\u001b[38;5;124m'\u001b[39m]))\n",
      "\u001b[1;31mNameError\u001b[0m: name 'df' is not defined"
     ]
    }
   ],
   "source": [
    "getDBSCANclusters('socal-fire', 0.02)"
   ]
  },
  {
   "cell_type": "code",
   "execution_count": 36,
   "id": "9c542d14",
   "metadata": {},
   "outputs": [],
   "source": [
    "# for disaster_name in df['Disaster Name'].unique():\n",
    "#     getDBSCANclusters(disaster_name, 0.19)"
   ]
  },
  {
   "cell_type": "code",
   "execution_count": null,
   "id": "09f2d586",
   "metadata": {},
   "outputs": [],
   "source": []
  },
  {
   "cell_type": "code",
   "execution_count": null,
   "id": "d83577c2",
   "metadata": {},
   "outputs": [],
   "source": []
  },
  {
   "cell_type": "code",
   "execution_count": null,
   "id": "7d6f8e3e",
   "metadata": {},
   "outputs": [],
   "source": []
  },
  {
   "cell_type": "code",
   "execution_count": null,
   "id": "e2bd4038",
   "metadata": {},
   "outputs": [],
   "source": []
  },
  {
   "cell_type": "code",
   "execution_count": null,
   "id": "4cc9a0c7",
   "metadata": {},
   "outputs": [],
   "source": []
  },
  {
   "cell_type": "code",
   "execution_count": null,
   "id": "1ab88aaa",
   "metadata": {},
   "outputs": [],
   "source": []
  },
  {
   "cell_type": "code",
   "execution_count": null,
   "id": "fcbe7395",
   "metadata": {},
   "outputs": [],
   "source": []
  },
  {
   "cell_type": "code",
   "execution_count": null,
   "id": "342296e3",
   "metadata": {},
   "outputs": [],
   "source": []
  },
  {
   "cell_type": "code",
   "execution_count": null,
   "id": "7aeaa8ac",
   "metadata": {},
   "outputs": [],
   "source": []
  },
  {
   "cell_type": "code",
   "execution_count": null,
   "id": "2d37834a",
   "metadata": {},
   "outputs": [],
   "source": []
  },
  {
   "cell_type": "code",
   "execution_count": null,
   "id": "fe713054",
   "metadata": {},
   "outputs": [],
   "source": []
  },
  {
   "cell_type": "code",
   "execution_count": null,
   "id": "1099faee",
   "metadata": {},
   "outputs": [],
   "source": []
  },
  {
   "cell_type": "code",
   "execution_count": null,
   "id": "af74bbc9",
   "metadata": {},
   "outputs": [],
   "source": []
  },
  {
   "cell_type": "code",
   "execution_count": null,
   "id": "fecc9c62",
   "metadata": {},
   "outputs": [],
   "source": []
  },
  {
   "cell_type": "code",
   "execution_count": null,
   "id": "8f1cc8b7",
   "metadata": {},
   "outputs": [],
   "source": []
  },
  {
   "cell_type": "code",
   "execution_count": null,
   "id": "7258b543",
   "metadata": {},
   "outputs": [],
   "source": []
  },
  {
   "cell_type": "code",
   "execution_count": null,
   "id": "be136e52",
   "metadata": {},
   "outputs": [],
   "source": []
  },
  {
   "cell_type": "code",
   "execution_count": null,
   "id": "b2b67001",
   "metadata": {},
   "outputs": [],
   "source": []
  },
  {
   "cell_type": "code",
   "execution_count": null,
   "id": "db7192da",
   "metadata": {},
   "outputs": [],
   "source": []
  },
  {
   "cell_type": "code",
   "execution_count": null,
   "id": "ca36867e",
   "metadata": {},
   "outputs": [],
   "source": []
  },
  {
   "cell_type": "code",
   "execution_count": null,
   "id": "51f91999",
   "metadata": {},
   "outputs": [],
   "source": []
  },
  {
   "cell_type": "code",
   "execution_count": null,
   "id": "44e626a0",
   "metadata": {},
   "outputs": [],
   "source": []
  },
  {
   "cell_type": "code",
   "execution_count": null,
   "id": "42ec2a5a",
   "metadata": {},
   "outputs": [],
   "source": []
  },
  {
   "cell_type": "code",
   "execution_count": null,
   "id": "d1e3052b",
   "metadata": {},
   "outputs": [],
   "source": []
  },
  {
   "cell_type": "code",
   "execution_count": null,
   "id": "454ac593",
   "metadata": {},
   "outputs": [],
   "source": []
  },
  {
   "cell_type": "code",
   "execution_count": null,
   "id": "acd44e4c",
   "metadata": {},
   "outputs": [],
   "source": []
  },
  {
   "cell_type": "code",
   "execution_count": null,
   "id": "93916347",
   "metadata": {},
   "outputs": [],
   "source": []
  },
  {
   "cell_type": "code",
   "execution_count": null,
   "id": "5f6fed4c",
   "metadata": {},
   "outputs": [],
   "source": []
  },
  {
   "cell_type": "code",
   "execution_count": null,
   "id": "b41299a4",
   "metadata": {},
   "outputs": [],
   "source": []
  },
  {
   "cell_type": "code",
   "execution_count": null,
   "id": "94584b06",
   "metadata": {},
   "outputs": [],
   "source": []
  },
  {
   "cell_type": "code",
   "execution_count": null,
   "id": "b646beff",
   "metadata": {},
   "outputs": [],
   "source": []
  },
  {
   "cell_type": "code",
   "execution_count": null,
   "id": "003c84f7",
   "metadata": {},
   "outputs": [],
   "source": []
  },
  {
   "cell_type": "code",
   "execution_count": null,
   "id": "765e76c8",
   "metadata": {},
   "outputs": [],
   "source": []
  },
  {
   "cell_type": "code",
   "execution_count": null,
   "id": "a8d2a26d",
   "metadata": {},
   "outputs": [],
   "source": []
  },
  {
   "cell_type": "code",
   "execution_count": null,
   "id": "2aeebacf",
   "metadata": {},
   "outputs": [],
   "source": []
  },
  {
   "cell_type": "code",
   "execution_count": null,
   "id": "9d18fdaa",
   "metadata": {},
   "outputs": [],
   "source": []
  },
  {
   "cell_type": "code",
   "execution_count": null,
   "id": "848cbf17",
   "metadata": {},
   "outputs": [],
   "source": []
  },
  {
   "cell_type": "code",
   "execution_count": null,
   "id": "210332b4",
   "metadata": {},
   "outputs": [],
   "source": []
  },
  {
   "cell_type": "code",
   "execution_count": null,
   "id": "ffa6a86c",
   "metadata": {},
   "outputs": [],
   "source": []
  },
  {
   "cell_type": "code",
   "execution_count": null,
   "id": "e61e9b71",
   "metadata": {},
   "outputs": [],
   "source": []
  },
  {
   "cell_type": "code",
   "execution_count": null,
   "id": "b74fb202",
   "metadata": {},
   "outputs": [],
   "source": []
  },
  {
   "cell_type": "code",
   "execution_count": null,
   "id": "80e0fa38",
   "metadata": {},
   "outputs": [],
   "source": []
  },
  {
   "cell_type": "code",
   "execution_count": null,
   "id": "92fc9030",
   "metadata": {},
   "outputs": [],
   "source": []
  },
  {
   "cell_type": "code",
   "execution_count": null,
   "id": "15b83955",
   "metadata": {},
   "outputs": [],
   "source": []
  },
  {
   "cell_type": "code",
   "execution_count": null,
   "id": "fc4cf10e",
   "metadata": {},
   "outputs": [],
   "source": []
  },
  {
   "cell_type": "code",
   "execution_count": null,
   "id": "f143a0c3",
   "metadata": {},
   "outputs": [],
   "source": []
  },
  {
   "cell_type": "code",
   "execution_count": null,
   "id": "81f91ecc",
   "metadata": {},
   "outputs": [],
   "source": []
  },
  {
   "cell_type": "code",
   "execution_count": null,
   "id": "97270efa",
   "metadata": {},
   "outputs": [],
   "source": []
  },
  {
   "cell_type": "code",
   "execution_count": null,
   "id": "a10f461a",
   "metadata": {},
   "outputs": [],
   "source": []
  },
  {
   "cell_type": "code",
   "execution_count": null,
   "id": "44f34561",
   "metadata": {},
   "outputs": [],
   "source": []
  }
 ],
 "metadata": {
  "kernelspec": {
   "display_name": "Python 3 (ipykernel)",
   "language": "python",
   "name": "python3"
  },
  "language_info": {
   "codemirror_mode": {
    "name": "ipython",
    "version": 3
   },
   "file_extension": ".py",
   "mimetype": "text/x-python",
   "name": "python",
   "nbconvert_exporter": "python",
   "pygments_lexer": "ipython3",
   "version": "3.9.12"
  }
 },
 "nbformat": 4,
 "nbformat_minor": 5
}
